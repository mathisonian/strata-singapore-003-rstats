{
 "cells": [
  {
   "cell_type": "code",
   "execution_count": 6,
   "metadata": {
    "collapsed": false
   },
   "outputs": [],
   "source": [
    "install.packages(\"LightningR\", repos=\"http://cran.rstudio.com/\")"
   ]
  },
  {
   "cell_type": "code",
   "execution_count": 7,
   "metadata": {
    "collapsed": false
   },
   "outputs": [],
   "source": [
    "library(LightningR)\n",
    "vizserver <- Lightning$new(\"http://public.lightning-viz.org/\")\n"
   ]
  },
  {
   "cell_type": "code",
   "execution_count": 10,
   "metadata": {
    "collapsed": false
   },
   "outputs": [
    {
     "ename": "ERROR",
     "evalue": "Error in response$id: $ operator is invalid for atomic vectors\n",
     "output_type": "error",
     "traceback": [
      "Error in response$id: $ operator is invalid for atomic vectors\n"
     ]
    }
   ],
   "source": [
    "vizserver$createsession()"
   ]
  },
  {
   "cell_type": "code",
   "execution_count": null,
   "metadata": {
    "collapsed": false
   },
   "outputs": [],
   "source": [
    "vizserver$line(c(1,2,3,4,5,6,7,8))"
   ]
  },
  {
   "cell_type": "code",
   "execution_count": 11,
   "metadata": {
    "collapsed": false
   },
   "outputs": [
    {
     "data": {
      "text/plain": [
       "<Lightning> object generator\n",
       "  Public:\n",
       "    serveraddress: NA\n",
       "    sessionid: NA\n",
       "    url: NA\n",
       "    autoopen: FALSE\n",
       "    initialize: function\n",
       "    line: function\n",
       "    scatter: function\n",
       "    linestacked: function\n",
       "    force: function\n",
       "    graph: function\n",
       "    map: function\n",
       "    graphbundled: function\n",
       "    matrix: function\n",
       "    adjacency: function\n",
       "    scatterline: function\n",
       "    scatter3: function\n",
       "    image: function\n",
       "    gallery: function\n",
       "    createsession: function\n",
       "    usesession: function\n",
       "    sethost: function\n",
       "    enableautoopening: function\n",
       "    disableautoopening: function\n",
       "    openviz: function\n",
       "    clone: function\n",
       "  Parent env: <environment: namespace:LightningR>\n",
       "  Locked objects: TRUE\n",
       "  Locked class: FALSE\n",
       "  Portable: TRUE"
      ]
     },
     "execution_count": 11,
     "metadata": {},
     "output_type": "execute_result"
    }
   ],
   "source": [
    "Lightning"
   ]
  },
  {
   "cell_type": "code",
   "execution_count": 13,
   "metadata": {
    "collapsed": false
   },
   "outputs": [
    {
     "name": "stderr",
     "output_type": "stream",
     "text": [
      "also installing the dependencies ‘BH’, ‘brew’, ‘Rcpp’, ‘xml2’, ‘memoise’, ‘whisker’, ‘rstudioapi’, ‘roxygen2’, ‘rversions’, ‘git2r’\n",
      "\n"
     ]
    },
    {
     "name": "stdout",
     "output_type": "stream",
     "text": [
      "\n",
      "The downloaded binary packages are in\n",
      "\t/var/folders/3l/dq6657ms43j0mnn0m3jd9_x00000gn/T//Rtmp6Cur8F/downloaded_packages\n"
     ]
    }
   ],
   "source": [
    "install.packages(\"devtools\", repos=\"http://cran.rstudio.com/\")\n"
   ]
  },
  {
   "cell_type": "code",
   "execution_count": 14,
   "metadata": {
    "collapsed": true
   },
   "outputs": [],
   "source": [
    "library(devtools)\n"
   ]
  },
  {
   "cell_type": "code",
   "execution_count": 15,
   "metadata": {
    "collapsed": false
   },
   "outputs": [
    {
     "name": "stderr",
     "output_type": "stream",
     "text": [
      "Dev mode: ON\n"
     ]
    }
   ],
   "source": [
    "dev_mode(on=T)\n"
   ]
  },
  {
   "cell_type": "code",
   "execution_count": 21,
   "metadata": {
    "collapsed": false
   },
   "outputs": [
    {
     "name": "stderr",
     "output_type": "stream",
     "text": [
      "Downloading GitHub repo mathisonian/lightning-rstat@master\n",
      "Installing LightningR\n",
      "Skipping 1 packages ahead of CRAN: jsonlite\n",
      "'/Library/Frameworks/R.framework/Resources/bin/R' --no-site-file --no-environ  \\\n",
      "  --no-save --no-restore CMD INSTALL  \\\n",
      "  '/private/var/folders/3l/dq6657ms43j0mnn0m3jd9_x00000gn/T/Rtmp6Cur8F/devtools9e1559585d8/mathisonian-lightning-rstat-24413bf/LightningR'  \\\n",
      "  --library='/Users/mathisonian/R-dev' --install-tests \n",
      "\n",
      "Reloading installed LightningR\n"
     ]
    }
   ],
   "source": [
    "install_github(\"mathisonian/lightning-rstat/LightningR\")\n"
   ]
  },
  {
   "cell_type": "code",
   "execution_count": 34,
   "metadata": {
    "collapsed": true
   },
   "outputs": [],
   "source": []
  },
  {
   "cell_type": "code",
   "execution_count": 35,
   "metadata": {
    "collapsed": false
   },
   "outputs": [
    {
     "data": {
      "text/html": [
       "<dl class=dl-horizontal>\n",
       "\t<dt>id</dt>\n",
       "\t\t<dd>'12bfe6e3-b552-4a9a-85a8-e586cf8c62aa'</dd>\n",
       "\t<dt>name</dt>\n",
       "\t\t<dd>''</dd>\n",
       "\t<dt>updatedAt</dt>\n",
       "\t\t<dd>'2015-11-30T13:20:29.225Z'</dd>\n",
       "\t<dt>createdAt</dt>\n",
       "\t\t<dd>'2015-11-30T13:20:29.225Z'</dd>\n",
       "</dl>\n"
      ],
      "text/latex": [
       "\\begin{description*}\n",
       "\\item[id] '12bfe6e3-b552-4a9a-85a8-e586cf8c62aa'\n",
       "\\item[name] ''\n",
       "\\item[updatedAt] '2015-11-30T13:20:29.225Z'\n",
       "\\item[createdAt] '2015-11-30T13:20:29.225Z'\n",
       "\\end{description*}\n"
      ],
      "text/markdown": [
       "id\n",
       ":   '12bfe6e3-b552-4a9a-85a8-e586cf8c62aa'name\n",
       ":   ''updatedAt\n",
       ":   '2015-11-30T13:20:29.225Z'createdAt\n",
       ":   '2015-11-30T13:20:29.225Z'\n",
       "\n"
      ],
      "text/plain": [
       "                                    id                                   name \n",
       "\"12bfe6e3-b552-4a9a-85a8-e586cf8c62aa\"                                     \"\" \n",
       "                             updatedAt                              createdAt \n",
       "            \"2015-11-30T13:20:29.225Z\"             \"2015-11-30T13:20:29.225Z\" "
      ]
     },
     "execution_count": 35,
     "metadata": {},
     "output_type": "execute_result"
    }
   ],
   "source": []
  },
  {
   "cell_type": "code",
   "execution_count": 36,
   "metadata": {
    "collapsed": false
   },
   "outputs": [
    {
     "name": "stdout",
     "output_type": "stream",
     "text": [
      "[1] \"http://public.lightning-viz.org/visualizations/94ebd4e5-3c13-4f3e-a604-6b13b0385c8b/ embed\"\n"
     ]
    },
    {
     "data": {
      "text/html": [
       "''"
      ],
      "text/latex": [
       "''"
      ],
      "text/markdown": [
       "''"
      ],
      "text/plain": [
       "[1] \"\""
      ]
     },
     "execution_count": 36,
     "metadata": {},
     "output_type": "execute_result"
    }
   ],
   "source": []
  },
  {
   "cell_type": "code",
   "execution_count": 44,
   "metadata": {
    "collapsed": false
   },
   "outputs": [],
   "source": [
    "library(IRdisplay)"
   ]
  },
  {
   "cell_type": "code",
   "execution_count": 64,
   "metadata": {
    "collapsed": false
   },
   "outputs": [
    {
     "name": "stderr",
     "output_type": "stream",
     "text": [
      "Installing LightningR\n",
      "Skipping 1 packages ahead of CRAN: jsonlite\n",
      "'/Library/Frameworks/R.framework/Resources/bin/R' --no-site-file --no-environ  \\\n",
      "  --no-save --no-restore CMD INSTALL  \\\n",
      "  '/Users/mathisonian/projects/lightning-rstat/LightningR'  \\\n",
      "  --library='/Users/mathisonian/R-dev' --install-tests \n",
      "\n",
      "Reloading installed LightningR\n"
     ]
    },
    {
     "data": {
      "text/html": [
       "<dl class=dl-horizontal>\n",
       "\t<dt>id</dt>\n",
       "\t\t<dd>'3cab4ef5-3e37-435f-ac04-5f01f5e3c469'</dd>\n",
       "\t<dt>name</dt>\n",
       "\t\t<dd>''</dd>\n",
       "\t<dt>updatedAt</dt>\n",
       "\t\t<dd>'2015-11-30T13:43:23.321Z'</dd>\n",
       "\t<dt>createdAt</dt>\n",
       "\t\t<dd>'2015-11-30T13:43:23.321Z'</dd>\n",
       "</dl>\n"
      ],
      "text/latex": [
       "\\begin{description*}\n",
       "\\item[id] '3cab4ef5-3e37-435f-ac04-5f01f5e3c469'\n",
       "\\item[name] ''\n",
       "\\item[updatedAt] '2015-11-30T13:43:23.321Z'\n",
       "\\item[createdAt] '2015-11-30T13:43:23.321Z'\n",
       "\\end{description*}\n"
      ],
      "text/markdown": [
       "id\n",
       ":   '3cab4ef5-3e37-435f-ac04-5f01f5e3c469'name\n",
       ":   ''updatedAt\n",
       ":   '2015-11-30T13:43:23.321Z'createdAt\n",
       ":   '2015-11-30T13:43:23.321Z'\n",
       "\n"
      ],
      "text/plain": [
       "                                    id                                   name \n",
       "\"3cab4ef5-3e37-435f-ac04-5f01f5e3c469\"                                     \"\" \n",
       "                             updatedAt                              createdAt \n",
       "            \"2015-11-30T13:43:23.321Z\"             \"2015-11-30T13:43:23.321Z\" "
      ]
     },
     "execution_count": 64,
     "metadata": {},
     "output_type": "execute_result"
    }
   ],
   "source": [
    "install(\"/Users/mathisonian/projects/lightning-rstat/LightningR\")\n",
    "vizserver <- Lightning$new(\"http://public.lightning-viz.org/\", notebook=T)\n",
    "vizserver$createsession()\n"
   ]
  },
  {
   "cell_type": "code",
   "execution_count": 75,
   "metadata": {
    "collapsed": false
   },
   "outputs": [
    {
     "data": {
      "text/html": [
       "<meta name=\"viewport\" content=\"width=device-width, initial-scale=1, maximum-scale=1\"/><meta http-equiv=\"X-UA-Compatible\" content=\"IE=10; IE=9; IE=8; IE=7; IE=EDGE\"/><meta charset=\"UTF-8\"/><link href=\"//fonts.googleapis.com/css?family=Open+Sans:400,700\" rel=\"stylesheet\" type=\"text/css\"/><link rel=\"stylesheet\" href=\"http://public.lightning-viz.org/css/app.css\"/><link rel=\"stylesheet\" href=\"http://public.lightning-viz.org/css/dynamic/viz/?visualizations[]=scatter\"/><div id=\"lightning-body\" class=\"container content wrap push\"><div class=\"feed-container\"><div data-model=\"visualization\" data-model-id=\"94ef4fc7-42b3-4930-b72d-ca81c884dd67\" class=\"feed-item-container\"><div data-type=\"lightning-scatter\" data-data=\"{&quot;points&quot;:[[1,1],[2,2],[3,3]]}\" data-images=\"null\" data-options=\"{&quot;width&quot;:600}\" id=\"viz-94ef4fc7-42b3-4930-b72d-ca81c884dd67\" data-initialized=\"false\" class=\"feed-item\"></div></div></div></div><script>window.lightning = window.lightning || {};\n",
       "window.lightning.host = \"http://public.lightning-viz.org/\" || 'http://127.0.0.1:3000/';\n",
       "window.lightning.vizCount = (window.lightning.vizCount + 1) || 1;\n",
       "window.lightning.requiredVizTypes = window.lightning.requiredVizTypes || [];\n",
       "if(window.lightning.requiredVizTypes.indexOf(\"scatter\") === -1) {\n",
       "    window.lightning.requiredVizTypes.push(\"scatter\");\n",
       "}\n",
       "window._require = window.require;\n",
       "window.require = undefined;\n",
       "window._define = window.define;\n",
       "window.define = undefined;</script><script src=\"http://public.lightning-viz.org/js/embed.js\"></script>"
      ]
     },
     "metadata": {},
     "output_type": "display_data"
    },
    {
     "name": "stdout",
     "output_type": "stream",
     "text": [
      "     [,1] [,2]\n",
      "[1,]   NA   NA\n",
      "[2,]   NA   NA\n",
      "[3,]   NA   NA\n"
     ]
    }
   ],
   "source": [
    "vizserver$scatter(c(1, 2, 3), c(1, 2, 3), )\n"
   ]
  },
  {
   "cell_type": "code",
   "execution_count": 66,
   "metadata": {
    "collapsed": true
   },
   "outputs": [],
   "source": [
    "x = list(1, 2, 3)"
   ]
  },
  {
   "cell_type": "code",
   "execution_count": 67,
   "metadata": {
    "collapsed": true
   },
   "outputs": [],
   "source": [
    "         points <- matrix(ncol = 2, nrow = length(x))"
   ]
  },
  {
   "cell_type": "code",
   "execution_count": 68,
   "metadata": {
    "collapsed": false
   },
   "outputs": [
    {
     "data": {
      "text/html": [
       "<table>\n",
       "<tbody>\n",
       "\t<tr><td>NA</td><td>NA</td></tr>\n",
       "\t<tr><td>NA</td><td>NA</td></tr>\n",
       "\t<tr><td>NA</td><td>NA</td></tr>\n",
       "</tbody>\n",
       "</table>\n"
      ],
      "text/latex": [
       "\\begin{tabular}{ll}\n",
       "\t NA & NA\\\\\n",
       "\t NA & NA\\\\\n",
       "\t NA & NA\\\\\n",
       "\\end{tabular}\n"
      ],
      "text/markdown": [
       "1. NA\n",
       "2. NA\n",
       "3. NA\n",
       "4. NA\n",
       "5. NA\n",
       "6. NA\n",
       "\n",
       "\n"
      ],
      "text/plain": [
       "     [,1] [,2]\n",
       "[1,]   NA   NA\n",
       "[2,]   NA   NA\n",
       "[3,]   NA   NA"
      ]
     },
     "execution_count": 68,
     "metadata": {},
     "output_type": "execute_result"
    }
   ],
   "source": [
    "points"
   ]
  },
  {
   "cell_type": "code",
   "execution_count": 69,
   "metadata": {
    "collapsed": true
   },
   "outputs": [],
   "source": [
    "points[, 1] <- "
   ]
  },
  {
   "cell_type": "code",
   "execution_count": 70,
   "metadata": {
    "collapsed": false
   },
   "outputs": [
    {
     "data": {
      "text/html": [
       "<ol>\n",
       "\t<li>1</li>\n",
       "\t<li>2</li>\n",
       "\t<li>3</li>\n",
       "\t<li>NA</li>\n",
       "\t<li>NA</li>\n",
       "\t<li>NA</li>\n",
       "</ol>\n"
      ],
      "text/latex": [
       "\\begin{enumerate}\n",
       "\\item 1\n",
       "\\item 2\n",
       "\\item 3\n",
       "\\item NA\n",
       "\\item NA\n",
       "\\item NA\n",
       "\\end{enumerate}\n"
      ],
      "text/markdown": [
       "1. 1\n",
       "2. 2\n",
       "3. 3\n",
       "4. NA\n",
       "5. NA\n",
       "6. NA\n",
       "\n",
       "\n"
      ],
      "text/plain": [
       "[[1]]\n",
       "[1] 1\n",
       "\n",
       "[[2]]\n",
       "[1] 2\n",
       "\n",
       "[[3]]\n",
       "[1] 3\n",
       "\n",
       "[[4]]\n",
       "[1] NA\n",
       "\n",
       "[[5]]\n",
       "[1] NA\n",
       "\n",
       "[[6]]\n",
       "[1] NA\n"
      ]
     },
     "execution_count": 70,
     "metadata": {},
     "output_type": "execute_result"
    }
   ],
   "source": [
    "points"
   ]
  },
  {
   "cell_type": "code",
   "execution_count": 73,
   "metadata": {
    "collapsed": false
   },
   "outputs": [],
   "source": [
    "y = list(3, 2, 1)"
   ]
  },
  {
   "cell_type": "code",
   "execution_count": 74,
   "metadata": {
    "collapsed": false
   },
   "outputs": [
    {
     "data": {
      "text/html": [
       "<ol>\n",
       "\t<li>1</li>\n",
       "\t<li>2</li>\n",
       "\t<li>3</li>\n",
       "\t<li>NA</li>\n",
       "\t<li>NA</li>\n",
       "\t<li>NA</li>\n",
       "</ol>\n"
      ],
      "text/latex": [
       "\\begin{enumerate}\n",
       "\\item 1\n",
       "\\item 2\n",
       "\\item 3\n",
       "\\item NA\n",
       "\\item NA\n",
       "\\item NA\n",
       "\\end{enumerate}\n"
      ],
      "text/markdown": [
       "1. 1\n",
       "2. 2\n",
       "3. 3\n",
       "4. NA\n",
       "5. NA\n",
       "6. NA\n",
       "\n",
       "\n"
      ],
      "text/plain": [
       "[[1]]\n",
       "[1] 1\n",
       "\n",
       "[[2]]\n",
       "[1] 2\n",
       "\n",
       "[[3]]\n",
       "[1] 3\n",
       "\n",
       "[[4]]\n",
       "[1] NA\n",
       "\n",
       "[[5]]\n",
       "[1] NA\n",
       "\n",
       "[[6]]\n",
       "[1] NA\n"
      ]
     },
     "execution_count": 74,
     "metadata": {},
     "output_type": "execute_result"
    }
   ],
   "source": [
    "points"
   ]
  },
  {
   "cell_type": "code",
   "execution_count": null,
   "metadata": {
    "collapsed": true
   },
   "outputs": [],
   "source": []
  }
 ],
 "metadata": {
  "kernelspec": {
   "display_name": "R",
   "language": "R",
   "name": "ir"
  },
  "language_info": {
   "codemirror_mode": "r",
   "file_extension": ".r",
   "mimetype": "text/x-r-source",
   "name": "R",
   "pygments_lexer": "r",
   "version": "3.2.2"
  }
 },
 "nbformat": 4,
 "nbformat_minor": 0
}
