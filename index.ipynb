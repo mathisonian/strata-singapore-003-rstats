{
 "cells": [
  {
   "cell_type": "code",
   "execution_count": 1,
   "metadata": {
    "collapsed": false
   },
   "outputs": [],
   "source": [
    "library(IRdisplay)\n",
    "library(devtools)"
   ]
  },
  {
   "cell_type": "code",
   "execution_count": 2,
   "metadata": {
    "collapsed": false
   },
   "outputs": [
    {
     "name": "stderr",
     "output_type": "stream",
     "text": [
      "Dev mode: ON\n",
      "Downloading GitHub repo mathisonian/lightning-rstat@master\n",
      "Installing LightningR\n",
      "'/Library/Frameworks/R.framework/Resources/bin/R' --no-site-file --no-environ  \\\n",
      "  --no-save --no-restore CMD INSTALL  \\\n",
      "  '/private/var/folders/3l/dq6657ms43j0mnn0m3jd9_x00000gn/T/Rtmp7iILsG/devtools5c1a1a579025/mathisonian-lightning-rstat-0374924/LightningR'  \\\n",
      "  --library='/Users/mathisonian/R-dev' --install-tests \n",
      "\n"
     ]
    }
   ],
   "source": [
    "dev_mode(on=T)\n",
    "install_github(\"mathisonian/lightning-rstat/LightningR\")\n"
   ]
  },
  {
   "cell_type": "code",
   "execution_count": 3,
   "metadata": {
    "collapsed": false
   },
   "outputs": [
    {
     "name": "stderr",
     "output_type": "stream",
     "text": [
      "Loading required package: RJSONIO\n",
      "Loading required package: RCurl\n",
      "Loading required package: bitops\n",
      "Loading required package: R6\n",
      "Loading required package: httr\n"
     ]
    }
   ],
   "source": [
    "library(LightningR)\n",
    "vizserver <- Lightning$new(\"http://public.lightning-viz.org/\", notebook=T)\n"
   ]
  },
  {
   "cell_type": "code",
   "execution_count": 4,
   "metadata": {
    "collapsed": false
   },
   "outputs": [
    {
     "data": {
      "text/html": [
       "<dl class=dl-horizontal>\n",
       "\t<dt>id</dt>\n",
       "\t\t<dd>'2fbe0011-1da3-4406-b959-b414ef0aa613'</dd>\n",
       "\t<dt>name</dt>\n",
       "\t\t<dd>''</dd>\n",
       "\t<dt>updatedAt</dt>\n",
       "\t\t<dd>'2015-11-30T22:58:40.009Z'</dd>\n",
       "\t<dt>createdAt</dt>\n",
       "\t\t<dd>'2015-11-30T22:58:40.009Z'</dd>\n",
       "</dl>\n"
      ],
      "text/latex": [
       "\\begin{description*}\n",
       "\\item[id] '2fbe0011-1da3-4406-b959-b414ef0aa613'\n",
       "\\item[name] ''\n",
       "\\item[updatedAt] '2015-11-30T22:58:40.009Z'\n",
       "\\item[createdAt] '2015-11-30T22:58:40.009Z'\n",
       "\\end{description*}\n"
      ],
      "text/markdown": [
       "id\n",
       ":   '2fbe0011-1da3-4406-b959-b414ef0aa613'name\n",
       ":   ''updatedAt\n",
       ":   '2015-11-30T22:58:40.009Z'createdAt\n",
       ":   '2015-11-30T22:58:40.009Z'\n",
       "\n"
      ],
      "text/plain": [
       "                                    id                                   name \n",
       "\"2fbe0011-1da3-4406-b959-b414ef0aa613\"                                     \"\" \n",
       "                             updatedAt                              createdAt \n",
       "            \"2015-11-30T22:58:40.009Z\"             \"2015-11-30T22:58:40.009Z\" "
      ]
     },
     "execution_count": 4,
     "metadata": {},
     "output_type": "execute_result"
    }
   ],
   "source": [
    "vizserver$createsession()"
   ]
  },
  {
   "cell_type": "code",
   "execution_count": 5,
   "metadata": {
    "collapsed": false
   },
   "outputs": [
    {
     "data": {
      "text/html": [
       "<meta name=\"viewport\" content=\"width=device-width, initial-scale=1, maximum-scale=1\"/><meta http-equiv=\"X-UA-Compatible\" content=\"IE=10; IE=9; IE=8; IE=7; IE=EDGE\"/><meta charset=\"UTF-8\"/><link href=\"//fonts.googleapis.com/css?family=Open+Sans:400,700\" rel=\"stylesheet\" type=\"text/css\"/><link rel=\"stylesheet\" href=\"http://public.lightning-viz.org/css/app.css\"/><link rel=\"stylesheet\" href=\"http://public.lightning-viz.org/css/dynamic/viz/?visualizations[]=line\"/><div id=\"lightning-body\" class=\"container content wrap push\"><div class=\"feed-container\"><div data-model=\"visualization\" data-model-id=\"15d72510-990e-4395-a0bd-60fc50f16286\" class=\"feed-item-container\"><div data-type=\"lightning-line\" data-data=\"{&quot;series&quot;:[1,2,3,4,5,6,7,8]}\" data-images=\"null\" data-options=\"{&quot;logScaleX&quot;:&quot;false&quot;,&quot;logScaleY&quot;:&quot;false&quot;,&quot;width&quot;:600}\" id=\"viz-15d72510-990e-4395-a0bd-60fc50f16286\" data-initialized=\"false\" class=\"feed-item\"></div></div></div></div><script>window.lightning = window.lightning || {};\n",
       "window.lightning.host = \"http://public.lightning-viz.org/\" || 'http://127.0.0.1:3000/';\n",
       "window.lightning.vizCount = (window.lightning.vizCount + 1) || 1;\n",
       "window.lightning.requiredVizTypes = window.lightning.requiredVizTypes || [];\n",
       "if(window.lightning.requiredVizTypes.indexOf(\"line\") === -1) {\n",
       "    window.lightning.requiredVizTypes.push(\"line\");\n",
       "}\n",
       "window._require = window.require;\n",
       "window.require = undefined;\n",
       "window._define = window.define;\n",
       "window.define = undefined;</script><script src=\"http://public.lightning-viz.org/js/embed.js\"></script>"
      ]
     },
     "metadata": {},
     "output_type": "display_data"
    }
   ],
   "source": [
    "vizserver$line(c(1,2,3,4,5,6,7,8))"
   ]
  },
  {
   "cell_type": "code",
   "execution_count": 6,
   "metadata": {
    "collapsed": false,
    "scrolled": true
   },
   "outputs": [
    {
     "data": {
      "text/html": [
       "<meta name=\"viewport\" content=\"width=device-width, initial-scale=1, maximum-scale=1\"/><meta http-equiv=\"X-UA-Compatible\" content=\"IE=10; IE=9; IE=8; IE=7; IE=EDGE\"/><meta charset=\"UTF-8\"/><link href=\"//fonts.googleapis.com/css?family=Open+Sans:400,700\" rel=\"stylesheet\" type=\"text/css\"/><link rel=\"stylesheet\" href=\"http://public.lightning-viz.org/css/app.css\"/><link rel=\"stylesheet\" href=\"http://public.lightning-viz.org/css/dynamic/viz/?visualizations[]=scatter\"/><div id=\"lightning-body\" class=\"container content wrap push\"><div class=\"feed-container\"><div data-model=\"visualization\" data-model-id=\"64cf1885-34e1-47a7-9193-b3e60ef36b12\" class=\"feed-item-container\"><div data-type=\"lightning-scatter\" data-data=\"{&quot;points&quot;:[[1,1],[2,2],[3,3]]}\" data-images=\"null\" data-options=\"{&quot;width&quot;:600}\" id=\"viz-64cf1885-34e1-47a7-9193-b3e60ef36b12\" data-initialized=\"false\" class=\"feed-item\"></div></div></div></div><script>window.lightning = window.lightning || {};\n",
       "window.lightning.host = \"http://public.lightning-viz.org/\" || 'http://127.0.0.1:3000/';\n",
       "window.lightning.vizCount = (window.lightning.vizCount + 1) || 1;\n",
       "window.lightning.requiredVizTypes = window.lightning.requiredVizTypes || [];\n",
       "if(window.lightning.requiredVizTypes.indexOf(\"scatter\") === -1) {\n",
       "    window.lightning.requiredVizTypes.push(\"scatter\");\n",
       "}\n",
       "window._require = window.require;\n",
       "window.require = undefined;\n",
       "window._define = window.define;\n",
       "window.define = undefined;</script><script src=\"http://public.lightning-viz.org/js/embed.js\"></script>"
      ]
     },
     "metadata": {},
     "output_type": "display_data"
    }
   ],
   "source": [
    "vizserver$scatter(c(1, 2, 3), c(1, 2, 3), )\n"
   ]
  },
  {
   "cell_type": "code",
   "execution_count": 7,
   "metadata": {
    "collapsed": false
   },
   "outputs": [],
   "source": [
    "x <- seq(-3, 7, by = 1/8)"
   ]
  },
  {
   "cell_type": "code",
   "execution_count": 13,
   "metadata": {
    "collapsed": false
   },
   "outputs": [
    {
     "data": {
      "text/html": [
       "<meta name=\"viewport\" content=\"width=device-width, initial-scale=1, maximum-scale=1\"/><meta http-equiv=\"X-UA-Compatible\" content=\"IE=10; IE=9; IE=8; IE=7; IE=EDGE\"/><meta charset=\"UTF-8\"/><link href=\"//fonts.googleapis.com/css?family=Open+Sans:400,700\" rel=\"stylesheet\" type=\"text/css\"/><link rel=\"stylesheet\" href=\"http://public.lightning-viz.org/css/app.css\"/><link rel=\"stylesheet\" href=\"http://public.lightning-viz.org/css/dynamic/viz/?visualizations[]=line\"/><div id=\"lightning-body\" class=\"container content wrap push\"><div class=\"feed-container\"><div data-model=\"visualization\" data-model-id=\"a77c4965-b1c6-4fd0-8439-8299b992aa63\" class=\"feed-item-container\"><div data-type=\"lightning-line\" data-data=\"{&quot;series&quot;:[-0.98999,-0.96467,-0.9243,-0.86951,-0.80114,-0.72028,-0.62817,-0.52627,-0.41615,-0.29953,-0.17825,-0.054177,0.070737,0.19455,0.31532,0.43118,0.5403,0.641,0.73169,0.81096,0.87758,0.93051,0.96891,0.9922,1,0.9922,0.96891,0.93051,0.87758,0.81096,0.73169,0.641,0.5403,0.43118,0.31532,0.19455,0.070737,-0.054177,-0.17825,-0.29953,-0.41615,-0.52627,-0.62817,-0.72028,-0.80114,-0.86951,-0.9243,-0.96467,-0.98999,-0.99986,-0.99413,-0.97288,-0.93646,-0.88542,-0.82056,-0.7429,-0.65364,-0.55419,-0.44609,-0.33102,-0.2108,-0.087278,0.037602,0.1619,0.28366,0.401,0.51209,0.61518,0.70867,0.7911,0.86119,0.91784,0.96017,0.98751,0.99945,0.99579,0.97659,0.94215,0.89301,0.82993,0.7539]}\" data-images=\"null\" data-options=\"{&quot;logScaleX&quot;:&quot;false&quot;,&quot;logScaleY&quot;:&quot;false&quot;,&quot;width&quot;:600}\" id=\"viz-a77c4965-b1c6-4fd0-8439-8299b992aa63\" data-initialized=\"false\" class=\"feed-item\"></div></div></div></div><script>window.lightning = window.lightning || {};\n",
       "window.lightning.host = \"http://public.lightning-viz.org/\" || 'http://127.0.0.1:3000/';\n",
       "window.lightning.vizCount = (window.lightning.vizCount + 1) || 1;\n",
       "window.lightning.requiredVizTypes = window.lightning.requiredVizTypes || [];\n",
       "if(window.lightning.requiredVizTypes.indexOf(\"line\") === -1) {\n",
       "    window.lightning.requiredVizTypes.push(\"line\");\n",
       "}\n",
       "window._require = window.require;\n",
       "window.require = undefined;\n",
       "window._define = window.define;\n",
       "window.define = undefined;</script><script src=\"http://public.lightning-viz.org/js/embed.js\"></script>"
      ]
     },
     "metadata": {},
     "output_type": "display_data"
    }
   ],
   "source": [
    "vizserver$line(cos(x))"
   ]
  },
  {
   "cell_type": "code",
   "execution_count": 18,
   "metadata": {
    "collapsed": false
   },
   "outputs": [
    {
     "data": {
      "text/html": [
       "<meta name=\"viewport\" content=\"width=device-width, initial-scale=1, maximum-scale=1\"/><meta http-equiv=\"X-UA-Compatible\" content=\"IE=10; IE=9; IE=8; IE=7; IE=EDGE\"/><meta charset=\"UTF-8\"/><link href=\"//fonts.googleapis.com/css?family=Open+Sans:400,700\" rel=\"stylesheet\" type=\"text/css\"/><link rel=\"stylesheet\" href=\"http://public.lightning-viz.org/css/app.css\"/><link rel=\"stylesheet\" href=\"http://public.lightning-viz.org/css/dynamic/viz/?visualizations[]=scatter\"/><div id=\"lightning-body\" class=\"container content wrap push\"><div class=\"feed-container\"><div data-model=\"visualization\" data-model-id=\"a9e64597-9e57-4ab8-abd1-b64d04035b74\" class=\"feed-item-container\"><div data-type=\"lightning-scatter\" data-data=\"{&quot;points&quot;:[[-3,-0.98999],[-2.875,-0.96467],[-2.75,-0.9243],[-2.625,-0.86951],[-2.5,-0.80114],[-2.375,-0.72028],[-2.25,-0.62817],[-2.125,-0.52627],[-2,-0.41615],[-1.875,-0.29953],[-1.75,-0.17825],[-1.625,-0.054177],[-1.5,0.070737],[-1.375,0.19455],[-1.25,0.31532],[-1.125,0.43118],[-1,0.5403],[-0.875,0.641],[-0.75,0.73169],[-0.625,0.81096],[-0.5,0.87758],[-0.375,0.93051],[-0.25,0.96891],[-0.125,0.9922],[0,1],[0.125,0.9922],[0.25,0.96891],[0.375,0.93051],[0.5,0.87758],[0.625,0.81096],[0.75,0.73169],[0.875,0.641],[1,0.5403],[1.125,0.43118],[1.25,0.31532],[1.375,0.19455],[1.5,0.070737],[1.625,-0.054177],[1.75,-0.17825],[1.875,-0.29953],[2,-0.41615],[2.125,-0.52627],[2.25,-0.62817],[2.375,-0.72028],[2.5,-0.80114],[2.625,-0.86951],[2.75,-0.9243],[2.875,-0.96467],[3,-0.98999],[3.125,-0.99986],[3.25,-0.99413],[3.375,-0.97288],[3.5,-0.93646],[3.625,-0.88542],[3.75,-0.82056],[3.875,-0.7429],[4,-0.65364],[4.125,-0.55419],[4.25,-0.44609],[4.375,-0.33102],[4.5,-0.2108],[4.625,-0.087278],[4.75,0.037602],[4.875,0.1619],[5,0.28366],[5.125,0.401],[5.25,0.51209],[5.375,0.61518],[5.5,0.70867],[5.625,0.7911],[5.75,0.86119],[5.875,0.91784],[6,0.96017],[6.125,0.98751],[6.25,0.99945],[6.375,0.99579],[6.5,0.97659],[6.625,0.94215],[6.75,0.89301],[6.875,0.82993],[7,0.7539]]}\" data-images=\"null\" data-options=\"{&quot;width&quot;:600}\" id=\"viz-a9e64597-9e57-4ab8-abd1-b64d04035b74\" data-initialized=\"false\" class=\"feed-item\"></div></div></div></div><script>window.lightning = window.lightning || {};\n",
       "window.lightning.host = \"http://public.lightning-viz.org/\" || 'http://127.0.0.1:3000/';\n",
       "window.lightning.vizCount = (window.lightning.vizCount + 1) || 1;\n",
       "window.lightning.requiredVizTypes = window.lightning.requiredVizTypes || [];\n",
       "if(window.lightning.requiredVizTypes.indexOf(\"scatter\") === -1) {\n",
       "    window.lightning.requiredVizTypes.push(\"scatter\");\n",
       "}\n",
       "window._require = window.require;\n",
       "window.require = undefined;\n",
       "window._define = window.define;\n",
       "window.define = undefined;</script><script src=\"http://public.lightning-viz.org/js/embed.js\"></script>"
      ]
     },
     "metadata": {},
     "output_type": "display_data"
    }
   ],
   "source": [
    "vizserver$scatter(x, cos(x))"
   ]
  },
  {
   "cell_type": "markdown",
   "metadata": {
    "collapsed": false
   },
   "source": [
    "## excercise use the scatter3 function to plot a sin wave in webgl \n",
    "\n",
    "### try to modify the color of each point"
   ]
  },
  {
   "cell_type": "code",
   "execution_count": null,
   "metadata": {
    "collapsed": false
   },
   "outputs": [],
   "source": []
  },
  {
   "cell_type": "code",
   "execution_count": null,
   "metadata": {
    "collapsed": true
   },
   "outputs": [],
   "source": []
  },
  {
   "cell_type": "code",
   "execution_count": null,
   "metadata": {
    "collapsed": false
   },
   "outputs": [],
   "source": []
  },
  {
   "cell_type": "code",
   "execution_count": null,
   "metadata": {
    "collapsed": false
   },
   "outputs": [],
   "source": []
  },
  {
   "cell_type": "code",
   "execution_count": null,
   "metadata": {
    "collapsed": false
   },
   "outputs": [],
   "source": []
  },
  {
   "cell_type": "code",
   "execution_count": null,
   "metadata": {
    "collapsed": false
   },
   "outputs": [],
   "source": []
  },
  {
   "cell_type": "code",
   "execution_count": null,
   "metadata": {
    "collapsed": false
   },
   "outputs": [],
   "source": []
  },
  {
   "cell_type": "code",
   "execution_count": null,
   "metadata": {
    "collapsed": true
   },
   "outputs": [],
   "source": []
  },
  {
   "cell_type": "code",
   "execution_count": null,
   "metadata": {
    "collapsed": true
   },
   "outputs": [],
   "source": []
  },
  {
   "cell_type": "code",
   "execution_count": null,
   "metadata": {
    "collapsed": false
   },
   "outputs": [],
   "source": []
  },
  {
   "cell_type": "code",
   "execution_count": null,
   "metadata": {
    "collapsed": true
   },
   "outputs": [],
   "source": []
  },
  {
   "cell_type": "code",
   "execution_count": null,
   "metadata": {
    "collapsed": false
   },
   "outputs": [],
   "source": []
  },
  {
   "cell_type": "code",
   "execution_count": null,
   "metadata": {
    "collapsed": false
   },
   "outputs": [],
   "source": []
  },
  {
   "cell_type": "code",
   "execution_count": null,
   "metadata": {
    "collapsed": false
   },
   "outputs": [],
   "source": []
  },
  {
   "cell_type": "code",
   "execution_count": null,
   "metadata": {
    "collapsed": true
   },
   "outputs": [],
   "source": []
  }
 ],
 "metadata": {
  "kernelspec": {
   "display_name": "R",
   "language": "R",
   "name": "ir"
  },
  "language_info": {
   "codemirror_mode": "r",
   "file_extension": ".r",
   "mimetype": "text/x-r-source",
   "name": "R",
   "pygments_lexer": "r",
   "version": "3.2.2"
  }
 },
 "nbformat": 4,
 "nbformat_minor": 0
}
